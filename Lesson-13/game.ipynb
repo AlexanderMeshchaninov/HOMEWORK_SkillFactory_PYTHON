{
 "cells": [
  {
   "cell_type": "markdown",
   "metadata": {},
   "source": [
    "## Угадай число V1"
   ]
  },
  {
   "cell_type": "code",
   "execution_count": 15,
   "metadata": {},
   "outputs": [
    {
     "name": "stdout",
     "output_type": "stream",
     "text": [
      "59.673469387755105\n"
     ]
    }
   ],
   "source": [
    "from game import calculate_variance\n",
    "\n",
    "number_list = [1, 2, 15, -12, 3, 6, 9]\n",
    "print(calculate_variance(number_list))"
   ]
  },
  {
   "cell_type": "markdown",
   "metadata": {},
   "source": [
    "# Игра угадай число V2"
   ]
  },
  {
   "cell_type": "code",
   "execution_count": 14,
   "metadata": {},
   "outputs": [
    {
     "name": "stdout",
     "output_type": "stream",
     "text": [
      "Ваш алгоритм угадывает число в среднем: 100 попыток\n"
     ]
    },
    {
     "data": {
      "text/plain": [
       "100"
      ]
     },
     "execution_count": 14,
     "metadata": {},
     "output_type": "execute_result"
    }
   ],
   "source": [
    "import game\n",
    "game.score_game(game.predict_number_game_self)"
   ]
  },
  {
   "cell_type": "markdown",
   "metadata": {},
   "source": [
    "Однако, хорошим тоном является сначала импортирование библиотек, а замет в другой ячейке демонстрация кода (корректный импорт см. ниже)"
   ]
  },
  {
   "cell_type": "code",
   "execution_count": 13,
   "metadata": {},
   "outputs": [
    {
     "name": "stdout",
     "output_type": "stream",
     "text": [
      "Ваш алгоритм угадывает число в среднем: 100 попыток\n"
     ]
    },
    {
     "data": {
      "text/plain": [
       "100"
      ]
     },
     "execution_count": 13,
     "metadata": {},
     "output_type": "execute_result"
    }
   ],
   "source": [
    "from game import score_game\n",
    "from game import predict_number_game_self\n",
    "\n",
    "score_game(predict_number_game_self)"
   ]
  },
  {
   "cell_type": "markdown",
   "metadata": {},
   "source": [
    "Изменения в библиотеках приводят к тому, что со временем код может перестать работать. Необходимо зафиксировать версии библиотеки, которые использовались в проекте.\n",
    "Можно зафиксировать версии через pip командой [ pip freeze > requirements.txt ]\n",
    "В результате выполнения команды в папке проекта появится файл requirements.txt, где будут перечислены все версии библиотек, которые сейчас установлены в окружении.\n",
    "\n",
    "Как перенести эти версии библиотек на другой компьютер, чтобы наш проект работал на нём?\n",
    "Для этого необходимо использовать команду [ pip install -r requirements.txt ]\n",
    "В результате выполнения этой команды будут установлены все библиотеки и зависимости, которые использовались в нашем проекте."
   ]
  }
 ],
 "metadata": {
  "kernelspec": {
   "display_name": "Python 3",
   "language": "python",
   "name": "python3"
  },
  "language_info": {
   "codemirror_mode": {
    "name": "ipython",
    "version": 3
   },
   "file_extension": ".py",
   "mimetype": "text/x-python",
   "name": "python",
   "nbconvert_exporter": "python",
   "pygments_lexer": "ipython3",
   "version": "3.12.0"
  }
 },
 "nbformat": 4,
 "nbformat_minor": 2
}
