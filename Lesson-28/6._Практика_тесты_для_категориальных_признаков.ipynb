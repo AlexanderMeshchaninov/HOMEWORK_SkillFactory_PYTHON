{
 "cells": [
  {
   "cell_type": "markdown",
   "metadata": {},
   "source": [
    "## КРИТЕРИЙ ХИ-КВАДРАТ"
   ]
  },
  {
   "cell_type": "code",
   "execution_count": 2,
   "metadata": {},
   "outputs": [],
   "source": [
    "import scipy.stats as stats # библиотека для использования критерия хи-квадрат\n",
    "from statsmodels.stats.contingency_tables import mcnemar\n",
    "import pandas as pd"
   ]
  },
  {
   "cell_type": "code",
   "execution_count": 3,
   "metadata": {},
   "outputs": [],
   "source": [
    "# задаём уровень значимости\n",
    "alpha = 0.05\n",
    "\n",
    "data = pd.read_csv('Data/cat_variables_tarif_children.csv', sep=',')"
   ]
  },
  {
   "cell_type": "code",
   "execution_count": 4,
   "metadata": {},
   "outputs": [
    {
     "data": {
      "text/plain": [
       "'p-value = 0.373'"
      ]
     },
     "metadata": {},
     "output_type": "display_data"
    },
    {
     "data": {
      "text/plain": [
       "'p-значение больше, чем заданный уровень значимости 0.05. У нас нет оснований отвергнуть нулевую гипотезу.'"
      ]
     },
     "metadata": {},
     "output_type": "display_data"
    }
   ],
   "source": [
    "# вычисляем таблицу сопряжённости\n",
    "table = pd.crosstab(data['Тариф'], data['Наличие детей'])\n",
    "\n",
    "# проводим тест\n",
    "_, p, _, _ = stats.chi2_contingency(table)\n",
    "display(f'p-value = {round(p, 3)}')\n",
    "\n",
    "# интерпретируем результат\n",
    "if p <= alpha: display(f'p-значение меньше, чем заданный уровень значимости {round(alpha, 2)}. Отвергаем нулевую гипотезу.')\n",
    "else: display(f'p-значение больше, чем заданный уровень значимости {round(alpha, 2)}. У нас нет оснований отвергнуть нулевую гипотезу.')"
   ]
  },
  {
   "cell_type": "markdown",
   "metadata": {},
   "source": [
    "Вывод: у нас нет оснований утверждать, что признаки «Тариф» и «Наличие детей» взаимосвязаны."
   ]
  },
  {
   "cell_type": "markdown",
   "metadata": {},
   "source": [
    "## КРИТЕРИЙ МАК-НЕМАРА"
   ]
  },
  {
   "cell_type": "code",
   "execution_count": 5,
   "metadata": {},
   "outputs": [],
   "source": [
    "# задаём уровень значимости\n",
    "alpha = 0.05\n",
    "\n",
    "data = pd.read_csv('Data/cat_variables_usage.csv', sep=',')"
   ]
  },
  {
   "cell_type": "code",
   "execution_count": 6,
   "metadata": {},
   "outputs": [
    {
     "data": {
      "text/plain": [
       "'p-value = 0.013'"
      ]
     },
     "metadata": {},
     "output_type": "display_data"
    },
    {
     "data": {
      "text/plain": [
       "'p-значение меньше, чем заданный уровень значимости 0.05. Отвергаем нулевую гипотезу.'"
      ]
     },
     "metadata": {},
     "output_type": "display_data"
    }
   ],
   "source": [
    "# вычисляем таблицу сопряжённости\n",
    "table = pd.crosstab(data['До'], data['После'])\n",
    "\n",
    "# проводим тест\n",
    "res = mcnemar(table)\n",
    "\n",
    "# извлекаем значение p-value из результатов теста\n",
    "p = res.pvalue\n",
    "\n",
    "display(f'p-value = {round(p, 3)}')\n",
    "\n",
    "# интерпретируем результат\n",
    "if p <= alpha: display(f'p-значение меньше, чем заданный уровень значимости {round(alpha, 2)}. Отвергаем нулевую гипотезу.')\n",
    "else: display(f'p-значение больше, чем заданный уровень значимости {round(alpha, 2)}. У нас нет оснований отвергнуть нулевую гипотезу.')"
   ]
  },
  {
   "cell_type": "markdown",
   "metadata": {},
   "source": [
    "Вывод: после просмотра рекламы доля клиентов, которые пользуются приложением, изменилась."
   ]
  },
  {
   "cell_type": "code",
   "execution_count": 9,
   "metadata": {},
   "outputs": [
    {
     "data": {
      "text/plain": [
       "'Таблица сопряженности'"
      ]
     },
     "metadata": {},
     "output_type": "display_data"
    },
    {
     "data": {
      "text/html": [
       "<div>\n",
       "<style scoped>\n",
       "    .dataframe tbody tr th:only-of-type {\n",
       "        vertical-align: middle;\n",
       "    }\n",
       "\n",
       "    .dataframe tbody tr th {\n",
       "        vertical-align: top;\n",
       "    }\n",
       "\n",
       "    .dataframe thead th {\n",
       "        text-align: right;\n",
       "    }\n",
       "</style>\n",
       "<table border=\"1\" class=\"dataframe\">\n",
       "  <thead>\n",
       "    <tr style=\"text-align: right;\">\n",
       "      <th>Новая форма</th>\n",
       "      <th>Есть</th>\n",
       "      <th>Нет</th>\n",
       "    </tr>\n",
       "    <tr>\n",
       "      <th>Старая форма</th>\n",
       "      <th></th>\n",
       "      <th></th>\n",
       "    </tr>\n",
       "  </thead>\n",
       "  <tbody>\n",
       "    <tr>\n",
       "      <th>Есть</th>\n",
       "      <td>7</td>\n",
       "      <td>3</td>\n",
       "    </tr>\n",
       "    <tr>\n",
       "      <th>Нет</th>\n",
       "      <td>12</td>\n",
       "      <td>8</td>\n",
       "    </tr>\n",
       "  </tbody>\n",
       "</table>\n",
       "</div>"
      ],
      "text/plain": [
       "Новая форма   Есть  Нет\n",
       "Старая форма           \n",
       "Есть             7    3\n",
       "Нет             12    8"
      ]
     },
     "metadata": {},
     "output_type": "display_data"
    },
    {
     "data": {
      "text/plain": [
       "'p-value = 0.035'"
      ]
     },
     "metadata": {},
     "output_type": "display_data"
    },
    {
     "data": {
      "text/plain": [
       "'p-значение меньше, чем заданный уровень значимости 0.05. Отвергаем нулевую гипотезу.'"
      ]
     },
     "metadata": {},
     "output_type": "display_data"
    }
   ],
   "source": [
    "alpha = 0.05\n",
    "data = pd.DataFrame([['Есть', 'Есть'], ['Есть', 'Нет'], ['Нет', 'Есть'], ['Нет', 'Есть'], ['Нет', 'Нет'], ['Есть', 'Есть'], ['Нет', 'Есть'], ['Нет', 'Есть'], ['Нет', 'Есть'], ['Нет', 'Есть'], ['Нет', 'Есть'], ['Нет', 'Есть'], ['Есть', 'Есть'], ['Нет', 'Есть'], ['Нет','Нет'], ['Нет', 'Нет'], ['Нет', 'Нет'], ['Есть', 'Нет'], ['Есть', 'Есть'], ['Нет', 'Нет'], ['Нет', 'Есть'], ['Есть', 'Нет'], ['Есть', 'Есть'], ['Нет', 'Нет'], ['Есть', 'Есть'], ['Нет', 'Есть'], ['Есть', 'Есть'], ['Нет', 'Нет'], ['Нет', 'Есть'], ['Нет', 'Нет']], columns=['Старая форма', 'Новая форма'])\n",
    "\n",
    "# вычисляем таблицу сопряжённости\n",
    "table = pd.crosstab(data['Старая форма'], data['Новая форма'])\n",
    "\n",
    "display('Таблица сопряженности')\n",
    "display(table)\n",
    "\n",
    "# проводим тест\n",
    "res = mcnemar(table)\n",
    "\n",
    "# извлекаем значение p-value из результатов теста\n",
    "p = res.pvalue\n",
    "\n",
    "display(f'p-value = {round(p, 3)}')\n",
    "\n",
    "# интерпретируем результат\n",
    "if p <= alpha: display(f'p-значение меньше, чем заданный уровень значимости {round(alpha, 2)}. Отвергаем нулевую гипотезу.')\n",
    "else: display(f'p-значение больше, чем заданный уровень значимости {round(alpha, 2)}. У нас нет оснований отвергнуть нулевую гипотезу.')"
   ]
  }
 ],
 "metadata": {
  "kernelspec": {
   "display_name": "Python 3",
   "language": "python",
   "name": "python3"
  },
  "language_info": {
   "codemirror_mode": {
    "name": "ipython",
    "version": 3
   },
   "file_extension": ".py",
   "mimetype": "text/x-python",
   "name": "python",
   "nbconvert_exporter": "python",
   "pygments_lexer": "ipython3",
   "version": "3.12.4"
  }
 },
 "nbformat": 4,
 "nbformat_minor": 2
}
