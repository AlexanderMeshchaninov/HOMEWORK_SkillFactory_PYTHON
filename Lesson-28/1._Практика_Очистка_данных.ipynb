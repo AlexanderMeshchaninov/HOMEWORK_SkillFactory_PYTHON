{
 "cells": [
  {
   "cell_type": "markdown",
   "metadata": {},
   "source": [
    "## Этапы жизненного цикла модели для создания ИИ-сомелье\n",
    "\n",
    "0. Формулировка задачи:\n",
    "   Создать ИИ-сомелье (прогностическую модель) по оценки вин вслепую. Данная модель будет выставлять рейтинг вину.\n",
    "\n",
    "1. Сбор данных: \n",
    "   В качестве источника данных мы используем интернет ресурс WineEnthusiast, делаем его парсинг для максимального сбора данных в наш датасет (как итог 129971 записей разного качества).\n",
    "\n",
    "2. Очистка данных:\n",
    "    Оцениваем полученные данные и проводим очистку от пустых значений или заменяем их на другие значения, выявляем аномалии в данных, выбросы. Кроме того, категориальные признаки (ввиде строк) пытаемся превратить в признаки (в виде чисел) для нашей будущей модели.\n",
    "\n",
    "3. Разведывательный анализ данных:\n",
    "    Ключевым признаком в нашем дата-сете является рейтинг вина. Скорее всего ему стоит уделить наибольшее внимание. Так же важными признаками при постановки рейтинга являются цена.\n",
    "\n",
    "4. Разработка и построение модели (EDA):\n",
    "    Кодирование категориальных признаков (например, страны происхождения вина).\n",
    "\n",
    "5. Внедрение модели в продакшен:\n",
    "    Внедрение модели в продуктивную среду для предоставления рекомендаций. Мониторинг работы модели и обновление при необходимости.\n",
    "\n",
    "## Подробный процесс разведывательного анализа данных (EDA)\n",
    "\n",
    "1. Изучение структуры данных, которая включает в себя:   \n",
    "\n",
    "    1.1 Просмотр первых и последний строк (df.head(5) df.tail(5));\n",
    "    \n",
    "    1.2 Структура данных (df.info());\n",
    "    \n",
    "    1.3 Основные статистические характеристики о дата-сете (df.describe())\n",
    "\n",
    "2. Обработка пропущенных значений:\n",
    "\n",
    "    2.1 Обнаружение пропусков (df.isnull().sum());\n",
    "    \n",
    "    2.2 Стратегии обработки пропусков(удаление пропущенных значений, если в данных больше 40 процентов пропусков, замена числовых значений средним, или модой и т.д.)\n",
    "\n",
    "3. Анализ распределения данных\n",
    "\n",
    "    3.1 Гистограмма распределения числовых признаков (df['price'].hist() df['points'].hist());\n",
    "    \n",
    "    3.2 Столбчатая диаграмма распредения категориальных признаков\n",
    "\n",
    "4. Визуализация данных \n",
    "\n",
    "    4.1 Тепловые карты;\n",
    "    \n",
    "    4.2 Коробчатые диаграммы\n",
    "\n",
    "5. Выявление и анализ выбросов\n",
    "\n",
    "    5.1 Коробчатые диаграммы\n",
    "    \n",
    "    5.2 Межквартильный размах (IQR)\n",
    "\n",
    "6. Анализ взаимосвязей между признаками\n",
    "\n",
    "    6.1 Парные диаграммы;\n",
    "    \n",
    "    6.2 Сводные таблицы\n",
    "\n",
    "7. Подготовка отчета"
   ]
  },
  {
   "cell_type": "markdown",
   "metadata": {},
   "source": [
    "Признаки дата-сета:\n",
    "\n",
    "* country — страна-производитель вина.\n",
    "\n",
    "* description — подробное описание.\n",
    "\n",
    "* designation — название виноградника, где выращивают виноград для вина.\n",
    "\n",
    "* points — баллы, которыми WineEnthusiast оценил вино по шкале от 1 до 100.\n",
    "\n",
    "* price — стоимость бутылки вина.\n",
    "\n",
    "* province — провинция или штат.\n",
    "\n",
    "* region_1 — винодельческий район в провинции или штате (например Напа).\n",
    "\n",
    "* region_2 — конкретный регион. Иногда в пределах винодельческой зоны указываются более конкретные регионы (например Резерфорд в долине Напа), но это значение может быть пустым.\n",
    "\n",
    "* taster_name — имя сомелье.\n",
    "\n",
    "* taster_twitter_handle — твиттер сомелье.\n",
    "\n",
    "* title — название вина, которое часто содержит год и другую подробную информацию.\n",
    "\n",
    "* variety — сорт винограда, из которого изготовлено вино (например Пино Нуар).\n",
    "\n",
    "* winery — винодельня, которая производила вино."
   ]
  },
  {
   "cell_type": "code",
   "execution_count": 2,
   "metadata": {},
   "outputs": [],
   "source": [
    "import pandas as pd\n",
    "import seaborn as sns\n",
    "import statistics # библиотека для статистических расчетов\n",
    "import matplotlib.pyplot as plt\n",
    "from scipy import stats # библиотека для расчетов\n",
    "from sklearn.metrics import matthews_corrcoef # отдельная библиотека в которой есть корреляция Мэтьюса\n",
    "\n",
    "# !Данная библиотека используется только для того, чтобы не выводить разные предупреждения и не используется для расчетов!\n",
    "import warnings\n",
    "warnings.filterwarnings('ignore')"
   ]
  },
  {
   "cell_type": "code",
   "execution_count": 3,
   "metadata": {},
   "outputs": [
    {
     "data": {
      "text/html": [
       "<div>\n",
       "<style scoped>\n",
       "    .dataframe tbody tr th:only-of-type {\n",
       "        vertical-align: middle;\n",
       "    }\n",
       "\n",
       "    .dataframe tbody tr th {\n",
       "        vertical-align: top;\n",
       "    }\n",
       "\n",
       "    .dataframe thead th {\n",
       "        text-align: right;\n",
       "    }\n",
       "</style>\n",
       "<table border=\"1\" class=\"dataframe\">\n",
       "  <thead>\n",
       "    <tr style=\"text-align: right;\">\n",
       "      <th></th>\n",
       "      <th>country</th>\n",
       "      <th>description</th>\n",
       "      <th>designation</th>\n",
       "      <th>points</th>\n",
       "      <th>price</th>\n",
       "      <th>province</th>\n",
       "      <th>region_1</th>\n",
       "      <th>region_2</th>\n",
       "      <th>taster_name</th>\n",
       "      <th>taster_twitter_handle</th>\n",
       "      <th>title</th>\n",
       "      <th>variety</th>\n",
       "      <th>winery</th>\n",
       "    </tr>\n",
       "  </thead>\n",
       "  <tbody>\n",
       "    <tr>\n",
       "      <th>0</th>\n",
       "      <td>Italy</td>\n",
       "      <td>Aromas include tropical fruit, broom, brimston...</td>\n",
       "      <td>Vulkà Bianco</td>\n",
       "      <td>87</td>\n",
       "      <td>NaN</td>\n",
       "      <td>Sicily &amp; Sardinia</td>\n",
       "      <td>Etna</td>\n",
       "      <td>NaN</td>\n",
       "      <td>Kerin O’Keefe</td>\n",
       "      <td>@kerinokeefe</td>\n",
       "      <td>Nicosia 2013 Vulkà Bianco  (Etna)</td>\n",
       "      <td>White Blend</td>\n",
       "      <td>Nicosia</td>\n",
       "    </tr>\n",
       "    <tr>\n",
       "      <th>1</th>\n",
       "      <td>Portugal</td>\n",
       "      <td>This is ripe and fruity, a wine that is smooth...</td>\n",
       "      <td>Avidagos</td>\n",
       "      <td>87</td>\n",
       "      <td>15.0</td>\n",
       "      <td>Douro</td>\n",
       "      <td>NaN</td>\n",
       "      <td>NaN</td>\n",
       "      <td>Roger Voss</td>\n",
       "      <td>@vossroger</td>\n",
       "      <td>Quinta dos Avidagos 2011 Avidagos Red (Douro)</td>\n",
       "      <td>Portuguese Red</td>\n",
       "      <td>Quinta dos Avidagos</td>\n",
       "    </tr>\n",
       "    <tr>\n",
       "      <th>2</th>\n",
       "      <td>US</td>\n",
       "      <td>Tart and snappy, the flavors of lime flesh and...</td>\n",
       "      <td>NaN</td>\n",
       "      <td>87</td>\n",
       "      <td>14.0</td>\n",
       "      <td>Oregon</td>\n",
       "      <td>Willamette Valley</td>\n",
       "      <td>Willamette Valley</td>\n",
       "      <td>Paul Gregutt</td>\n",
       "      <td>@paulgwine</td>\n",
       "      <td>Rainstorm 2013 Pinot Gris (Willamette Valley)</td>\n",
       "      <td>Pinot Gris</td>\n",
       "      <td>Rainstorm</td>\n",
       "    </tr>\n",
       "    <tr>\n",
       "      <th>3</th>\n",
       "      <td>US</td>\n",
       "      <td>Pineapple rind, lemon pith and orange blossom ...</td>\n",
       "      <td>Reserve Late Harvest</td>\n",
       "      <td>87</td>\n",
       "      <td>13.0</td>\n",
       "      <td>Michigan</td>\n",
       "      <td>Lake Michigan Shore</td>\n",
       "      <td>NaN</td>\n",
       "      <td>Alexander Peartree</td>\n",
       "      <td>NaN</td>\n",
       "      <td>St. Julian 2013 Reserve Late Harvest Riesling ...</td>\n",
       "      <td>Riesling</td>\n",
       "      <td>St. Julian</td>\n",
       "    </tr>\n",
       "    <tr>\n",
       "      <th>4</th>\n",
       "      <td>US</td>\n",
       "      <td>Much like the regular bottling from 2012, this...</td>\n",
       "      <td>Vintner's Reserve Wild Child Block</td>\n",
       "      <td>87</td>\n",
       "      <td>65.0</td>\n",
       "      <td>Oregon</td>\n",
       "      <td>Willamette Valley</td>\n",
       "      <td>Willamette Valley</td>\n",
       "      <td>Paul Gregutt</td>\n",
       "      <td>@paulgwine</td>\n",
       "      <td>Sweet Cheeks 2012 Vintner's Reserve Wild Child...</td>\n",
       "      <td>Pinot Noir</td>\n",
       "      <td>Sweet Cheeks</td>\n",
       "    </tr>\n",
       "  </tbody>\n",
       "</table>\n",
       "</div>"
      ],
      "text/plain": [
       "    country                                        description  \\\n",
       "0     Italy  Aromas include tropical fruit, broom, brimston...   \n",
       "1  Portugal  This is ripe and fruity, a wine that is smooth...   \n",
       "2        US  Tart and snappy, the flavors of lime flesh and...   \n",
       "3        US  Pineapple rind, lemon pith and orange blossom ...   \n",
       "4        US  Much like the regular bottling from 2012, this...   \n",
       "\n",
       "                          designation  points  price           province  \\\n",
       "0                        Vulkà Bianco      87    NaN  Sicily & Sardinia   \n",
       "1                            Avidagos      87   15.0              Douro   \n",
       "2                                 NaN      87   14.0             Oregon   \n",
       "3                Reserve Late Harvest      87   13.0           Michigan   \n",
       "4  Vintner's Reserve Wild Child Block      87   65.0             Oregon   \n",
       "\n",
       "              region_1           region_2         taster_name  \\\n",
       "0                 Etna                NaN       Kerin O’Keefe   \n",
       "1                  NaN                NaN          Roger Voss   \n",
       "2    Willamette Valley  Willamette Valley        Paul Gregutt   \n",
       "3  Lake Michigan Shore                NaN  Alexander Peartree   \n",
       "4    Willamette Valley  Willamette Valley        Paul Gregutt   \n",
       "\n",
       "  taster_twitter_handle                                              title  \\\n",
       "0          @kerinokeefe                  Nicosia 2013 Vulkà Bianco  (Etna)   \n",
       "1            @vossroger      Quinta dos Avidagos 2011 Avidagos Red (Douro)   \n",
       "2           @paulgwine       Rainstorm 2013 Pinot Gris (Willamette Valley)   \n",
       "3                   NaN  St. Julian 2013 Reserve Late Harvest Riesling ...   \n",
       "4           @paulgwine   Sweet Cheeks 2012 Vintner's Reserve Wild Child...   \n",
       "\n",
       "          variety               winery  \n",
       "0     White Blend              Nicosia  \n",
       "1  Portuguese Red  Quinta dos Avidagos  \n",
       "2      Pinot Gris            Rainstorm  \n",
       "3        Riesling           St. Julian  \n",
       "4      Pinot Noir         Sweet Cheeks  "
      ]
     },
     "metadata": {},
     "output_type": "display_data"
    },
    {
     "data": {
      "text/html": [
       "<div>\n",
       "<style scoped>\n",
       "    .dataframe tbody tr th:only-of-type {\n",
       "        vertical-align: middle;\n",
       "    }\n",
       "\n",
       "    .dataframe tbody tr th {\n",
       "        vertical-align: top;\n",
       "    }\n",
       "\n",
       "    .dataframe thead th {\n",
       "        text-align: right;\n",
       "    }\n",
       "</style>\n",
       "<table border=\"1\" class=\"dataframe\">\n",
       "  <thead>\n",
       "    <tr style=\"text-align: right;\">\n",
       "      <th></th>\n",
       "      <th>country</th>\n",
       "      <th>description</th>\n",
       "      <th>designation</th>\n",
       "      <th>points</th>\n",
       "      <th>price</th>\n",
       "      <th>province</th>\n",
       "      <th>region_1</th>\n",
       "      <th>region_2</th>\n",
       "      <th>taster_name</th>\n",
       "      <th>taster_twitter_handle</th>\n",
       "      <th>title</th>\n",
       "      <th>variety</th>\n",
       "      <th>winery</th>\n",
       "    </tr>\n",
       "  </thead>\n",
       "  <tbody>\n",
       "    <tr>\n",
       "      <th>129966</th>\n",
       "      <td>Germany</td>\n",
       "      <td>Notes of honeysuckle and cantaloupe sweeten th...</td>\n",
       "      <td>Brauneberger Juffer-Sonnenuhr Spätlese</td>\n",
       "      <td>90</td>\n",
       "      <td>28.0</td>\n",
       "      <td>Mosel</td>\n",
       "      <td>NaN</td>\n",
       "      <td>NaN</td>\n",
       "      <td>Anna Lee C. Iijima</td>\n",
       "      <td>NaN</td>\n",
       "      <td>Dr. H. Thanisch (Erben Müller-Burggraef) 2013 ...</td>\n",
       "      <td>Riesling</td>\n",
       "      <td>Dr. H. Thanisch (Erben Müller-Burggraef)</td>\n",
       "    </tr>\n",
       "    <tr>\n",
       "      <th>129967</th>\n",
       "      <td>US</td>\n",
       "      <td>Citation is given as much as a decade of bottl...</td>\n",
       "      <td>NaN</td>\n",
       "      <td>90</td>\n",
       "      <td>75.0</td>\n",
       "      <td>Oregon</td>\n",
       "      <td>Oregon</td>\n",
       "      <td>Oregon Other</td>\n",
       "      <td>Paul Gregutt</td>\n",
       "      <td>@paulgwine</td>\n",
       "      <td>Citation 2004 Pinot Noir (Oregon)</td>\n",
       "      <td>Pinot Noir</td>\n",
       "      <td>Citation</td>\n",
       "    </tr>\n",
       "    <tr>\n",
       "      <th>129968</th>\n",
       "      <td>France</td>\n",
       "      <td>Well-drained gravel soil gives this wine its c...</td>\n",
       "      <td>Kritt</td>\n",
       "      <td>90</td>\n",
       "      <td>30.0</td>\n",
       "      <td>Alsace</td>\n",
       "      <td>Alsace</td>\n",
       "      <td>NaN</td>\n",
       "      <td>Roger Voss</td>\n",
       "      <td>@vossroger</td>\n",
       "      <td>Domaine Gresser 2013 Kritt Gewurztraminer (Als...</td>\n",
       "      <td>Gewürztraminer</td>\n",
       "      <td>Domaine Gresser</td>\n",
       "    </tr>\n",
       "    <tr>\n",
       "      <th>129969</th>\n",
       "      <td>France</td>\n",
       "      <td>A dry style of Pinot Gris, this is crisp with ...</td>\n",
       "      <td>NaN</td>\n",
       "      <td>90</td>\n",
       "      <td>32.0</td>\n",
       "      <td>Alsace</td>\n",
       "      <td>Alsace</td>\n",
       "      <td>NaN</td>\n",
       "      <td>Roger Voss</td>\n",
       "      <td>@vossroger</td>\n",
       "      <td>Domaine Marcel Deiss 2012 Pinot Gris (Alsace)</td>\n",
       "      <td>Pinot Gris</td>\n",
       "      <td>Domaine Marcel Deiss</td>\n",
       "    </tr>\n",
       "    <tr>\n",
       "      <th>129970</th>\n",
       "      <td>France</td>\n",
       "      <td>Big, rich and off-dry, this is powered by inte...</td>\n",
       "      <td>Lieu-dit Harth Cuvée Caroline</td>\n",
       "      <td>90</td>\n",
       "      <td>21.0</td>\n",
       "      <td>Alsace</td>\n",
       "      <td>Alsace</td>\n",
       "      <td>NaN</td>\n",
       "      <td>Roger Voss</td>\n",
       "      <td>@vossroger</td>\n",
       "      <td>Domaine Schoffit 2012 Lieu-dit Harth Cuvée Car...</td>\n",
       "      <td>Gewürztraminer</td>\n",
       "      <td>Domaine Schoffit</td>\n",
       "    </tr>\n",
       "  </tbody>\n",
       "</table>\n",
       "</div>"
      ],
      "text/plain": [
       "        country                                        description  \\\n",
       "129966  Germany  Notes of honeysuckle and cantaloupe sweeten th...   \n",
       "129967       US  Citation is given as much as a decade of bottl...   \n",
       "129968   France  Well-drained gravel soil gives this wine its c...   \n",
       "129969   France  A dry style of Pinot Gris, this is crisp with ...   \n",
       "129970   France  Big, rich and off-dry, this is powered by inte...   \n",
       "\n",
       "                                   designation  points  price province  \\\n",
       "129966  Brauneberger Juffer-Sonnenuhr Spätlese      90   28.0    Mosel   \n",
       "129967                                     NaN      90   75.0   Oregon   \n",
       "129968                                   Kritt      90   30.0   Alsace   \n",
       "129969                                     NaN      90   32.0   Alsace   \n",
       "129970           Lieu-dit Harth Cuvée Caroline      90   21.0   Alsace   \n",
       "\n",
       "       region_1      region_2         taster_name taster_twitter_handle  \\\n",
       "129966      NaN           NaN  Anna Lee C. Iijima                   NaN   \n",
       "129967   Oregon  Oregon Other        Paul Gregutt           @paulgwine    \n",
       "129968   Alsace           NaN          Roger Voss            @vossroger   \n",
       "129969   Alsace           NaN          Roger Voss            @vossroger   \n",
       "129970   Alsace           NaN          Roger Voss            @vossroger   \n",
       "\n",
       "                                                    title         variety  \\\n",
       "129966  Dr. H. Thanisch (Erben Müller-Burggraef) 2013 ...        Riesling   \n",
       "129967                  Citation 2004 Pinot Noir (Oregon)      Pinot Noir   \n",
       "129968  Domaine Gresser 2013 Kritt Gewurztraminer (Als...  Gewürztraminer   \n",
       "129969      Domaine Marcel Deiss 2012 Pinot Gris (Alsace)      Pinot Gris   \n",
       "129970  Domaine Schoffit 2012 Lieu-dit Harth Cuvée Car...  Gewürztraminer   \n",
       "\n",
       "                                          winery  \n",
       "129966  Dr. H. Thanisch (Erben Müller-Burggraef)  \n",
       "129967                                  Citation  \n",
       "129968                           Domaine Gresser  \n",
       "129969                      Domaine Marcel Deiss  \n",
       "129970                          Domaine Schoffit  "
      ]
     },
     "metadata": {},
     "output_type": "display_data"
    }
   ],
   "source": [
    "wine_df = pd.read_csv('Data/wine.csv', sep=',')\n",
    "display(wine_df.head(5))\n",
    "display()\n",
    "display(wine_df.tail(5))"
   ]
  },
  {
   "cell_type": "code",
   "execution_count": 4,
   "metadata": {},
   "outputs": [
    {
     "data": {
      "text/plain": [
       "'Количество сомелье: 19'"
      ]
     },
     "metadata": {},
     "output_type": "display_data"
    },
    {
     "data": {
      "text/plain": [
       "'Максимальная цена за бутылку: 3300'"
      ]
     },
     "metadata": {},
     "output_type": "display_data"
    }
   ],
   "source": [
    "tasters_count = wine_df['taster_name'].nunique()\n",
    "display(f'Количество сомелье: {tasters_count}')\n",
    "\n",
    "max_bottle_price = wine_df['price'].max()\n",
    "display(f'Максимальная цена за бутылку: {round(max_bottle_price)}')"
   ]
  },
  {
   "cell_type": "code",
   "execution_count": 5,
   "metadata": {},
   "outputs": [
    {
     "data": {
      "text/plain": [
       "'Структура данных'"
      ]
     },
     "metadata": {},
     "output_type": "display_data"
    },
    {
     "name": "stdout",
     "output_type": "stream",
     "text": [
      "<class 'pandas.core.frame.DataFrame'>\n",
      "RangeIndex: 129971 entries, 0 to 129970\n",
      "Data columns (total 13 columns):\n",
      " #   Column                 Non-Null Count   Dtype  \n",
      "---  ------                 --------------   -----  \n",
      " 0   country                129908 non-null  object \n",
      " 1   description            129971 non-null  object \n",
      " 2   designation            92506 non-null   object \n",
      " 3   points                 129971 non-null  int64  \n",
      " 4   price                  120975 non-null  float64\n",
      " 5   province               129908 non-null  object \n",
      " 6   region_1               108724 non-null  object \n",
      " 7   region_2               50511 non-null   object \n",
      " 8   taster_name            103727 non-null  object \n",
      " 9   taster_twitter_handle  98758 non-null   object \n",
      " 10  title                  129971 non-null  object \n",
      " 11  variety                129970 non-null  object \n",
      " 12  winery                 129971 non-null  object \n",
      "dtypes: float64(1), int64(1), object(11)\n",
      "memory usage: 12.9+ MB\n"
     ]
    }
   ],
   "source": [
    "display(f'Структура данных')\n",
    "wine_df.info()"
   ]
  },
  {
   "cell_type": "code",
   "execution_count": 6,
   "metadata": {},
   "outputs": [
    {
     "data": {
      "text/plain": [
       "'Основные статистические данные'"
      ]
     },
     "metadata": {},
     "output_type": "display_data"
    },
    {
     "data": {
      "text/html": [
       "<div>\n",
       "<style scoped>\n",
       "    .dataframe tbody tr th:only-of-type {\n",
       "        vertical-align: middle;\n",
       "    }\n",
       "\n",
       "    .dataframe tbody tr th {\n",
       "        vertical-align: top;\n",
       "    }\n",
       "\n",
       "    .dataframe thead th {\n",
       "        text-align: right;\n",
       "    }\n",
       "</style>\n",
       "<table border=\"1\" class=\"dataframe\">\n",
       "  <thead>\n",
       "    <tr style=\"text-align: right;\">\n",
       "      <th></th>\n",
       "      <th>points</th>\n",
       "      <th>price</th>\n",
       "    </tr>\n",
       "  </thead>\n",
       "  <tbody>\n",
       "    <tr>\n",
       "      <th>count</th>\n",
       "      <td>129971.000000</td>\n",
       "      <td>120975.000000</td>\n",
       "    </tr>\n",
       "    <tr>\n",
       "      <th>mean</th>\n",
       "      <td>88.447138</td>\n",
       "      <td>35.363389</td>\n",
       "    </tr>\n",
       "    <tr>\n",
       "      <th>std</th>\n",
       "      <td>3.039730</td>\n",
       "      <td>41.022218</td>\n",
       "    </tr>\n",
       "    <tr>\n",
       "      <th>min</th>\n",
       "      <td>80.000000</td>\n",
       "      <td>4.000000</td>\n",
       "    </tr>\n",
       "    <tr>\n",
       "      <th>25%</th>\n",
       "      <td>86.000000</td>\n",
       "      <td>17.000000</td>\n",
       "    </tr>\n",
       "    <tr>\n",
       "      <th>50%</th>\n",
       "      <td>88.000000</td>\n",
       "      <td>25.000000</td>\n",
       "    </tr>\n",
       "    <tr>\n",
       "      <th>75%</th>\n",
       "      <td>91.000000</td>\n",
       "      <td>42.000000</td>\n",
       "    </tr>\n",
       "    <tr>\n",
       "      <th>max</th>\n",
       "      <td>100.000000</td>\n",
       "      <td>3300.000000</td>\n",
       "    </tr>\n",
       "  </tbody>\n",
       "</table>\n",
       "</div>"
      ],
      "text/plain": [
       "              points          price\n",
       "count  129971.000000  120975.000000\n",
       "mean       88.447138      35.363389\n",
       "std         3.039730      41.022218\n",
       "min        80.000000       4.000000\n",
       "25%        86.000000      17.000000\n",
       "50%        88.000000      25.000000\n",
       "75%        91.000000      42.000000\n",
       "max       100.000000    3300.000000"
      ]
     },
     "execution_count": 6,
     "metadata": {},
     "output_type": "execute_result"
    }
   ],
   "source": [
    "display(f'Основные статистические данные')\n",
    "wine_df.describe()"
   ]
  },
  {
   "cell_type": "code",
   "execution_count": 7,
   "metadata": {},
   "outputs": [
    {
     "data": {
      "text/plain": [
       "'Уникальные признаки'"
      ]
     },
     "metadata": {},
     "output_type": "display_data"
    },
    {
     "data": {
      "text/plain": [
       "country                      43\n",
       "description              119955\n",
       "designation               37979\n",
       "points                       21\n",
       "price                       390\n",
       "province                    425\n",
       "region_1                   1229\n",
       "region_2                     17\n",
       "taster_name                  19\n",
       "taster_twitter_handle        15\n",
       "title                    118840\n",
       "variety                     707\n",
       "winery                    16757\n",
       "dtype: int64"
      ]
     },
     "execution_count": 7,
     "metadata": {},
     "output_type": "execute_result"
    }
   ],
   "source": [
    "display('Уникальные признаки')\n",
    "wine_df.nunique()"
   ]
  },
  {
   "cell_type": "code",
   "execution_count": 8,
   "metadata": {},
   "outputs": [
    {
     "data": {
      "text/plain": [
       "array([[<Axes: title={'center': 'points'}>,\n",
       "        <Axes: title={'center': 'price'}>]], dtype=object)"
      ]
     },
     "metadata": {},
     "output_type": "display_data"
    },
    {
     "data": {
      "image/png": "[encoded data removed]",
      "text/plain": [
       "<Figure size 640x480 with 2 Axes>"
      ]
     },
     "metadata": {},
     "output_type": "display_data"
    }
   ],
   "source": [
    "# Основные числовые признаки это\n",
    "hist = wine_df.hist()\n",
    "display(hist)"
   ]
  },
  {
   "cell_type": "code",
   "execution_count": 9,
   "metadata": {},
   "outputs": [
    {
     "data": {
      "text/plain": [
       "<Axes: xlabel='country'>"
      ]
     },
     "execution_count": 9,
     "metadata": {},
     "output_type": "execute_result"
    },
    {
     "data": {
      "image/png": "[encoded data removed]",
      "text/plain": [
       "<Figure size 640x480 with 1 Axes>"
      ]
     },
     "metadata": {},
     "output_type": "display_data"
    }
   ],
   "source": [
    "# Основные категориальные признаки это\n",
    "wine_df['country'].value_counts().plot(kind='bar')"
   ]
  },
  {
   "cell_type": "code",
   "execution_count": 10,
   "metadata": {},
   "outputs": [
    {
     "data": {
      "text/plain": [
       "'Число найденных полных дубликатов (до удаления): 9983'"
      ]
     },
     "metadata": {},
     "output_type": "display_data"
    },
    {
     "data": {
      "text/plain": [
       "'Число найденных полных дубликатов (после удаления): 0'"
      ]
     },
     "metadata": {},
     "output_type": "display_data"
    }
   ],
   "source": [
    "# Считает дубликаты\n",
    "mask = wine_df.duplicated()\n",
    "duplicates = wine_df[mask]\n",
    "display(f'Число найденных полных дубликатов (до удаления): {duplicates.shape[0]}')\n",
    "\n",
    "# Удаляем дубликаты\n",
    "wine_df = wine_df.drop_duplicates()\n",
    "\n",
    "# Проверяем дубликаты после удаления\n",
    "mask = wine_df.duplicated()\n",
    "duplicates = wine_df[mask]\n",
    "display(f'Число найденных полных дубликатов (после удаления): {duplicates.shape[0]}')"
   ]
  },
  {
   "cell_type": "code",
   "execution_count": 11,
   "metadata": {},
   "outputs": [
    {
     "name": "stdout",
     "output_type": "stream",
     "text": [
      "Число пропусков: country                     59\n",
      "designation              34545\n",
      "price                     8395\n",
      "province                    59\n",
      "region_1                 19560\n",
      "region_2                 73219\n",
      "taster_name              24917\n",
      "taster_twitter_handle    29446\n",
      "variety                      1\n",
      "dtype: int64\n"
     ]
    }
   ],
   "source": [
    "# Число пропусков в столбцах\n",
    "null_data = wine_df.isnull().sum()\n",
    "print(f'Число пропусков: {null_data[null_data > 0]}')"
   ]
  },
  {
   "cell_type": "code",
   "execution_count": 12,
   "metadata": {},
   "outputs": [
    {
     "data": {
      "text/plain": [
       "<Axes: >"
      ]
     },
     "execution_count": 12,
     "metadata": {},
     "output_type": "execute_result"
    },
    {
     "data": {
      "image/png": "[encoded data removed]",
      "text/plain": [
       "<Figure size 640x480 with 2 Axes>"
      ]
     },
     "metadata": {},
     "output_type": "display_data"
    }
   ],
   "source": [
    "# Карта пропуской\n",
    "sns.heatmap(wine_df.isnull())"
   ]
  },
  {
   "cell_type": "code",
   "execution_count": 13,
   "metadata": {},
   "outputs": [],
   "source": [
    "# Удаляем признак region_2 т.к. он представляет более 60% пропусков и не имеет ценности\n",
    "wine_df = wine_df.drop(['region_2'], axis=1)"
   ]
  },
  {
   "cell_type": "code",
   "execution_count": 14,
   "metadata": {},
   "outputs": [],
   "source": [
    "# Заменяем пропущенные значения в категориальных признаках на unknown\n",
    "wine_df['designation'] = wine_df['designation'].fillna('unknown')\n",
    "wine_df['region_1'] = wine_df['region_1'].fillna('unknown')\n",
    "wine_df['taster_name'] = wine_df['taster_name'].fillna('unknown')\n",
    "wine_df['taster_twitter_handle'] = wine_df['taster_twitter_handle'].fillna('unknown')"
   ]
  },
  {
   "cell_type": "code",
   "execution_count": 15,
   "metadata": {},
   "outputs": [],
   "source": [
    "# Признаки с наименьшим количеством пропусков заменяем на частовречающиеся значения\n",
    "wine_df['country'] = wine_df['country'].fillna('US')\n",
    "wine_df['province'] = wine_df['province'].fillna('California')\n",
    "wine_df['variety'] = wine_df['variety'].fillna('Pinot Noir')"
   ]
  },
  {
   "cell_type": "code",
   "execution_count": 16,
   "metadata": {},
   "outputs": [],
   "source": [
    "# Признак с наименьшим количеством пропусков заменяем на среднее значение\n",
    "wine_df['price'] = wine_df['price'].fillna(wine_df['price'].mean())"
   ]
  },
  {
   "cell_type": "markdown",
   "metadata": {},
   "source": [
    "Можно провести над данными другие виды манипуляций, например удалить те столбцы у которых более 30% пропусков."
   ]
  },
  {
   "cell_type": "code",
   "execution_count": 17,
   "metadata": {},
   "outputs": [],
   "source": [
    "# # Задаем порог в 70 % (0.7), т.е удаляем столбцы в которых более 30 процентов пропусков! \n",
    "# thresh = wine_df.shape[0] * 0.7\n",
    "# # Axis = 1 удаляем столбцы\n",
    "# wine_df = wine_df.dropna(thresh=thresh, axis=1)\n",
    "# # Axis = 0 удаляем оставшиеся строки\n",
    "# wine_df = wine_df.dropna(how='any', axis=0)\n",
    "\n",
    "# # Число пропусков в столбцах\n",
    "# null_data = wine_df.isnull().sum()\n",
    "# print(f'Число пропусков: {null_data[null_data > 0]}')"
   ]
  },
  {
   "cell_type": "code",
   "execution_count": 18,
   "metadata": {},
   "outputs": [],
   "source": [
    "# сохраняем очищенный датасет для дальнейшей работы\n",
    "# wine_df.to_csv('Data/wine_cleared.csv', index=True)"
   ]
  },
  {
   "cell_type": "code",
   "execution_count": 19,
   "metadata": {},
   "outputs": [],
   "source": [
    "# Далее получение данных из очищенного дата-сета\n",
    "wine_df_cleared = pd.read_csv('Data/wine_cleared.csv')"
   ]
  },
  {
   "cell_type": "code",
   "execution_count": 20,
   "metadata": {},
   "outputs": [
    {
     "data": {
      "text/plain": [
       "'Наименьший балл за вино: 80'"
      ]
     },
     "metadata": {},
     "output_type": "display_data"
    }
   ],
   "source": [
    "# Одномерный анализ признака баллы (минимум)\n",
    "min = wine_df_cleared['points'].min()\n",
    "display(f'Наименьший балл за вино: {min}')"
   ]
  },
  {
   "cell_type": "code",
   "execution_count": 21,
   "metadata": {},
   "outputs": [
    {
     "data": {
      "text/plain": [
       "'Наименьшая цена за бутылку: 4.0'"
      ]
     },
     "metadata": {},
     "output_type": "display_data"
    }
   ],
   "source": [
    "# Минимум цены за бутылку\n",
    "min = wine_df_cleared['price'].min()\n",
    "display(f'Наименьшая цена за бутылку: {min}')"
   ]
  },
  {
   "cell_type": "code",
   "execution_count": 22,
   "metadata": {},
   "outputs": [
    {
     "data": {
      "text/plain": [
       "'Средняя стоимость бутылки вина: 35.36'"
      ]
     },
     "metadata": {},
     "output_type": "display_data"
    },
    {
     "data": {
      "text/plain": [
       "'Средняя стоимость бутылки вина (стандартными методами): 35.36'"
      ]
     },
     "metadata": {},
     "output_type": "display_data"
    }
   ],
   "source": [
    "# Вычисляем среднее арифмитическое с помощью библиотеки statistics (средняя стоимость бутылки вина)\n",
    "mean = statistics.mean(wine_df_cleared['price'])\n",
    "display(f'Средняя стоимость бутылки вина: {round(mean, 2)}')\n",
    "\n",
    "# Вычисляем среднее арифметическое с помощью обычных способов\n",
    "mean_custom= sum(wine_df_cleared['price']) / len(wine_df_cleared['price'])\n",
    "display(f'Средняя стоимость бутылки вина (стандартными методами): {round(mean_custom, 2)}')"
   ]
  },
  {
   "cell_type": "code",
   "execution_count": 23,
   "metadata": {},
   "outputs": [
    {
     "data": {
      "text/plain": [
       "'Медиана стоимости бутылки вина: 28.0'"
      ]
     },
     "metadata": {},
     "output_type": "display_data"
    },
    {
     "data": {
      "text/plain": [
       "28.0"
      ]
     },
     "metadata": {},
     "output_type": "display_data"
    }
   ],
   "source": [
    "# Вычисляем медиану с помощью библиотеки statistics (медиана стоимости бутылки вина)\n",
    "median = statistics.median(wine_df_cleared['price'])\n",
    "display(f'Медиана стоимости бутылки вина: {median}')\n",
    "\n",
    "# Вычисляем медиану с помощью обычных способов\n",
    "count_val = len(wine_df_cleared['price']) # количество записей цен\n",
    "sorted_val = sorted(wine_df_cleared['price']) # отсортированные цены\n",
    "mid_index = count_val // 2 # средний элемент отсортированного списка\n",
    "\n",
    "if count_val % 2: # при нечетном кол-ве элементов выбираем средний по индексу\n",
    "    median_val = sorted_val[mid_index]\n",
    "else: # при четном кол-ве элементов выбираем 2 средних по индексу и считаем между ними среднее арифметическое\n",
    "    median_val = (sorted_val[mid_index-1] + sorted_val[mid_index]) // 2\n",
    "display(median_val)"
   ]
  },
  {
   "cell_type": "code",
   "execution_count": 24,
   "metadata": {},
   "outputs": [
    {
     "data": {
      "text/plain": [
       "'Мода стоимости бутылки вина: 35.36'"
      ]
     },
     "metadata": {},
     "output_type": "display_data"
    },
    {
     "data": {
      "text/plain": [
       "'Мода (мультимода) стоимости бутылки вина: [35.363389129985535]'"
      ]
     },
     "metadata": {},
     "output_type": "display_data"
    }
   ],
   "source": [
    "# Вычисляем моду с помощью библиотеки statistics (мода стоимости бутылки вина)\n",
    "mode = statistics.mode(wine_df_cleared['price'])\n",
    "display(f'Мода стоимости бутылки вина: {round(mode, 2)}')\n",
    "\n",
    "# Вычисляем моду с помощью библиотеки statistics (мода стоимости бутылки вина)\n",
    "multi_mode = statistics.multimode(wine_df_cleared['price'])\n",
    "display(f'Мода (мультимода) стоимости бутылки вина: {multi_mode}')"
   ]
  },
  {
   "cell_type": "code",
   "execution_count": 25,
   "metadata": {},
   "outputs": [
    {
     "data": {
      "text/plain": [
       "'Мода стоимости бутылки вина (с помощью кастомного метода): 35.36'"
      ]
     },
     "metadata": {},
     "output_type": "display_data"
    },
    {
     "data": {
      "text/plain": [
       "'Мода стоимости бутылки вина (с помощью кастомного метода): 35.36'"
      ]
     },
     "metadata": {},
     "output_type": "display_data"
    }
   ],
   "source": [
    "from collections import Counter\n",
    "\n",
    "# Вычисляем моду с помощью обычных способов\n",
    "def find_mode(data):\n",
    "    data = list(data)\n",
    "    if not data: # Если получили пустое значение\n",
    "        return None\n",
    "    # Используем библиотеку Counter для подсчета\n",
    "    data_count = Counter(data)\n",
    "    # Находим максимальные значения в Counter\n",
    "    max_count = max(data_count.values()) \n",
    "    # Находим моду если при переборе получаем значние из списка максимальных\n",
    "    mode = [key for key, val in data_count.items() if val == max_count]\n",
    "    # Возвращаем моду если длинна списка больше 1\n",
    "    return mode if len(mode) > 1 else mode[0]\n",
    "    \n",
    "mode_custom_1 = find_mode(wine_df_cleared['price'])\n",
    "display(f'Мода стоимости бутылки вина (с помощью кастомного метода): {round(mode_custom_1, 2)}')\n",
    "\n",
    "mode_сustom_2 = round(wine_df_cleared['price'].value_counts().index[0], 2)\n",
    "display(f'Мода стоимости бутылки вина (с помощью кастомного метода): {round(mode_сustom_2, 2)}')"
   ]
  },
  {
   "cell_type": "code",
   "execution_count": 26,
   "metadata": {},
   "outputs": [
    {
     "data": {
      "text/html": [
       "<div>\n",
       "<style scoped>\n",
       "    .dataframe tbody tr th:only-of-type {\n",
       "        vertical-align: middle;\n",
       "    }\n",
       "\n",
       "    .dataframe tbody tr th {\n",
       "        vertical-align: top;\n",
       "    }\n",
       "\n",
       "    .dataframe thead th {\n",
       "        text-align: right;\n",
       "    }\n",
       "</style>\n",
       "<table border=\"1\" class=\"dataframe\">\n",
       "  <thead>\n",
       "    <tr style=\"text-align: right;\">\n",
       "      <th></th>\n",
       "      <th>price</th>\n",
       "      <th>points</th>\n",
       "    </tr>\n",
       "  </thead>\n",
       "  <tbody>\n",
       "    <tr>\n",
       "      <th>price</th>\n",
       "      <td>1.000000</td>\n",
       "      <td>0.402137</td>\n",
       "    </tr>\n",
       "    <tr>\n",
       "      <th>points</th>\n",
       "      <td>0.402137</td>\n",
       "      <td>1.000000</td>\n",
       "    </tr>\n",
       "  </tbody>\n",
       "</table>\n",
       "</div>"
      ],
      "text/plain": [
       "           price    points\n",
       "price   1.000000  0.402137\n",
       "points  0.402137  1.000000"
      ]
     },
     "metadata": {},
     "output_type": "display_data"
    },
    {
     "data": {
      "text/plain": [
       "'Коэффициент корреляци между ценой за бутылку и баллами за вино: 0.402137'"
      ]
     },
     "metadata": {},
     "output_type": "display_data"
    }
   ],
   "source": [
    "# Получаем коэффициент корриляции признаков в нашем дата-сете\n",
    "\n",
    "# Отфильтровываем только числовые признаки\n",
    "numeric_wine_df = wine_df_cleared.select_dtypes(include=['number'])\n",
    "\n",
    "correlation_matrix = numeric_wine_df[['price', 'points']].corr()\n",
    "\n",
    "display(correlation_matrix)\n",
    "# Корреляция между ценой за бутылку и баллами за вино, округляем ответ до шести знаков после запятой.\n",
    "display(f'Коэффициент корреляци между ценой за бутылку и баллами за вино: {round(correlation_matrix.loc['price', 'points'], 6)}')"
   ]
  },
  {
   "cell_type": "code",
   "execution_count": 27,
   "metadata": {},
   "outputs": [
    {
     "data": {
      "image/png": "[encoded data removed]",
      "text/plain": [
       "<Figure size 640x480 with 2 Axes>"
      ]
     },
     "metadata": {},
     "output_type": "display_data"
    }
   ],
   "source": [
    "# Построим график qq plot\n",
    "plt.subplot(2, 2, 1) # задаем сетку рисунка количество строк и столбцов\n",
    "stats.probplot(wine_df_cleared['price'], plot=plt)\n",
    "\n",
    "# Построим график гистограмму\n",
    "plt.subplot(2, 2, 2)\n",
    "plt.hist(wine_df_cleared['price'])\n",
    "\n",
    "plt.tight_layout() # чтобы графики не наезжали другу на друга, используем tight_layout\n",
    "plt.show() # просмотр графика"
   ]
  },
  {
   "cell_type": "markdown",
   "metadata": {},
   "source": [
    "Такой признак при анализе Пирсоном (установлен по умолчанию) может выдать некорректные результаты. Для таких случаев существуют другие виды корреляций или проводится операция по приведению признака к нормальному путём преобразований."
   ]
  },
  {
   "cell_type": "code",
   "execution_count": 28,
   "metadata": {},
   "outputs": [
    {
     "data": {
      "image/png": "[encoded data removed]",
      "text/plain": [
       "<Figure size 640x480 with 2 Axes>"
      ]
     },
     "metadata": {},
     "output_type": "display_data"
    }
   ],
   "source": [
    "# Построим график qq plot\n",
    "plt.subplot(2, 2, 1) # задаем сетку рисунка количество строк и столбцов\n",
    "stats.probplot(wine_df_cleared['points'], plot=plt)\n",
    "\n",
    "# Построим график гистограмму\n",
    "plt.subplot(2, 2, 2)\n",
    "plt.hist(wine_df_cleared['points'])\n",
    "\n",
    "plt.tight_layout() # чтобы графики не наезжали другу на друга, используем tight_layout\n",
    "plt.show() # просмотр графика"
   ]
  },
  {
   "cell_type": "code",
   "execution_count": 29,
   "metadata": {},
   "outputs": [
    {
     "name": "stdout",
     "output_type": "stream",
     "text": [
      "Коэффициент корреляци Спирмена между ценой за бутылку и баллами за вино: \n",
      "        price  points\n",
      "price    1.00    0.58\n",
      "points   0.58    1.00\n"
     ]
    }
   ],
   "source": [
    "# Корреляция Спирмена для price и points\n",
    "spearman_corr_matrix = wine_df_cleared[['price', 'points']].corr(method='spearman', numeric_only=True)\n",
    "print(f'Коэффициент корреляци Спирмена между ценой за бутылку и баллами за вино: \\n{round(spearman_corr_matrix, 2)}')"
   ]
  },
  {
   "cell_type": "markdown",
   "metadata": {},
   "source": [
    "Примечание: Обычно корреляция по Спирмену используется для категориальных признаков, НО иногда мы можем применить ранговую корреляцию и для числовых переменных, которые распределены **ненормально или если между ними существует нелинейная связь**. "
   ]
  },
  {
   "cell_type": "code",
   "execution_count": 30,
   "metadata": {},
   "outputs": [
    {
     "name": "stdout",
     "output_type": "stream",
     "text": [
      "Коэффициент корреляци Кендала между ценой за бутылку и баллами за вино: \n",
      "        price  points\n",
      "price    1.00    0.43\n",
      "points   0.43    1.00\n"
     ]
    }
   ],
   "source": [
    "# Корреляция Кендала для price и points\n",
    "kendall_corr_matrix = wine_df_cleared[['price', 'points']].corr(method='kendall', numeric_only=True)\n",
    "print(f'Коэффициент корреляци Кендала между ценой за бутылку и баллами за вино: \\n{round(kendall_corr_matrix, 2)}')"
   ]
  },
  {
   "cell_type": "markdown",
   "metadata": {},
   "source": [
    "В нашем случае корреляционный анализ показал нам явную связь цены за бутылку вина с её рейтингом. Она не является такой сильной связью, чтобы вызывать мультиколлинеарность. Также мы по-прежнему не можем сказать, что цена и рейтинг связаны напрямую, ведь корреляция не даёт нам причинно-следственных связей. Возможно, есть третья переменная, влияющая на эти оба признака."
   ]
  },
  {
   "cell_type": "markdown",
   "metadata": {},
   "source": [
    "В нашем датасете винных обзоров нет бинарных переменных, но мы можем воспользоваться примером."
   ]
  },
  {
   "cell_type": "code",
   "execution_count": 31,
   "metadata": {},
   "outputs": [
    {
     "data": {
      "text/plain": [
       "'Учебный пример корреляции по Мэтьюсу: -0.33'"
      ]
     },
     "metadata": {},
     "output_type": "display_data"
    }
   ],
   "source": [
    "# Пример. Создадим два случайных признака x, y и зададим им бинарные значения.\n",
    "x = [+1, -1, +1, +1] # список значений признака х\n",
    "y = [+1, +1, +1, -1] # список значений признака y\n",
    "\n",
    "matthews_corr = matthews_corrcoef(x, y) # рассчитаем коэффициент корреляции Мэтьюса\n",
    "display(f'Учебный пример корреляции по Мэтьюсу: {round(matthews_corr, 2)}')"
   ]
  },
  {
   "cell_type": "markdown",
   "metadata": {},
   "source": [
    "Коэффициент корреляции Мэтьюса может быть полезен в случае, когда в датасете представлены только бинарные переменные. Кроме того, этот коэффициент используется для оценки качества моделей, ответы которых также бинарны."
   ]
  }
 ],
 "metadata": {
  "kernelspec": {
   "display_name": "Python 3",
   "language": "python",
   "name": "python3"
  },
  "language_info": {
   "codemirror_mode": {
    "name": "ipython",
    "version": 3
   },
   "file_extension": ".py",
   "mimetype": "text/x-python",
   "name": "python",
   "nbconvert_exporter": "python",
   "pygments_lexer": "ipython3",
   "version": "3.12.4"
  }
 },
 "nbformat": 4,
 "nbformat_minor": 2
}
