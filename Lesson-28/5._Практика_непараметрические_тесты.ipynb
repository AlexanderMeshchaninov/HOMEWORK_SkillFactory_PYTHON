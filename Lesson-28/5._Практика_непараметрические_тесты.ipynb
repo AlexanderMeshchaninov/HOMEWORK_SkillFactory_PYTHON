{
 "cells": [
  {
   "cell_type": "code",
   "execution_count": 3,
   "metadata": {},
   "outputs": [],
   "source": [
    "# Библиотеки\n",
    "from statsmodels.stats.descriptivestats import sign_test # тест критерий знаков для одной группы\n",
    "import scipy.stats as stats # библиотека для теста Шапиро-Уилка"
   ]
  },
  {
   "cell_type": "markdown",
   "metadata": {},
   "source": [
    "## КРИТЕРИЙ ЗНАКОВ ДЛЯ ОДНОЙ ГРУППЫ"
   ]
  },
  {
   "cell_type": "code",
   "execution_count": 2,
   "metadata": {},
   "outputs": [],
   "source": [
    "# задаём уровень значимости\n",
    "alpha = 0.05 \n",
    "\n",
    "# загружаем данные\n",
    "data = [55, 53, 60, 49, 45, 57, 46, 53, 59, 53, 53, 55, 42, 41, 59, 43, 47, 60, 50, 57, 59, 56, 52, 48, 59, 53, 59, 50, 59, 59]"
   ]
  },
  {
   "cell_type": "code",
   "execution_count": 4,
   "metadata": {},
   "outputs": [
    {
     "data": {
      "text/plain": [
       "'p-value = 0.016'"
      ]
     },
     "metadata": {},
     "output_type": "display_data"
    },
    {
     "data": {
      "text/plain": [
       "'Распределение не нормальное'"
      ]
     },
     "metadata": {},
     "output_type": "display_data"
    }
   ],
   "source": [
    "# проводим тест Шапиро — Уилка (на нормальность)\n",
    "_, p = stats.shapiro(data)\n",
    "display(f'p-value = {round(p, 3)}')\n",
    "\n",
    "# интерпретируем результат\n",
    "if p <= alpha: display('Распределение не нормальное')\n",
    "else: display('Распределение нормальное')"
   ]
  },
  {
   "cell_type": "code",
   "execution_count": 13,
   "metadata": {},
   "outputs": [
    {
     "data": {
      "text/plain": [
       "'Тест КРИТЕРИЙ ЗНАКОВ ДЛЯ ОДНОЙ ГРУППЫ'"
      ]
     },
     "metadata": {},
     "output_type": "display_data"
    },
    {
     "data": {
      "text/plain": [
       "'p-value = 0.0'"
      ]
     },
     "metadata": {},
     "output_type": "display_data"
    },
    {
     "data": {
      "text/plain": [
       "'p-значение меньше, чем заданный уровень значимости 0.05. Отвергаем нулевую гипотезу.'"
      ]
     },
     "metadata": {},
     "output_type": "display_data"
    }
   ],
   "source": [
    "# проводим тест КРИТЕРИЙ ЗНАКОВ ДЛЯ ОДНОЙ ГРУППЫ\n",
    "display('Тест КРИТЕРИЙ ЗНАКОВ ДЛЯ ОДНОЙ ГРУППЫ')\n",
    "_, p = sign_test(samp=data, mu0=60)\n",
    "display(f'p-value = {round(p, 3)}')\n",
    "\n",
    "if p <= alpha: display(f'p-значение меньше, чем заданный уровень значимости {round(alpha, 2)}. Отвергаем нулевую гипотезу.')\n",
    "else: display(f'p-значение больше, чем заданный уровень значимости {round(alpha, 2)}. У нас нет оснований отвергнуть нулевую гипотезу.')"
   ]
  },
  {
   "cell_type": "markdown",
   "metadata": {},
   "source": [
    "Вывод: время получения ответа изменилось и больше не составляет 60 секунд."
   ]
  },
  {
   "cell_type": "markdown",
   "metadata": {},
   "source": [
    "## U-КРИТЕРИЙ МАННА — УИТНИ"
   ]
  },
  {
   "cell_type": "code",
   "execution_count": 14,
   "metadata": {},
   "outputs": [],
   "source": [
    "# задаём уровень значимости\n",
    "alpha = 0.05 \n",
    "\n",
    "# загружаем данные\n",
    "data_chat_bot = [55, 53, 60, 49, 45, 57, 46, 53, 59, 53, 53, 55, 42, 41, 59, 43, 47, 60, 50, 57, 59, 56, 52, 48, 59, 53, 59, 50, 59, 59]\n",
    "data_operator = [72, 80, 66, 72, 75, 71, 73, 71, 75, 68, 63, 68, 62, 65, 77, 66, 67, 62, 60, 74, 61, 67, 61, 63, 62, 79, 61, 63, 62, 63]"
   ]
  },
  {
   "cell_type": "code",
   "execution_count": 15,
   "metadata": {},
   "outputs": [
    {
     "data": {
      "text/plain": [
       "'p-value = 0.016'"
      ]
     },
     "metadata": {},
     "output_type": "display_data"
    },
    {
     "data": {
      "text/plain": [
       "'Распределение не нормальное'"
      ]
     },
     "metadata": {},
     "output_type": "display_data"
    },
    {
     "data": {
      "text/plain": [
       "'p-value = 0.02'"
      ]
     },
     "metadata": {},
     "output_type": "display_data"
    },
    {
     "data": {
      "text/plain": [
       "'Распределение не нормальное'"
      ]
     },
     "metadata": {},
     "output_type": "display_data"
    }
   ],
   "source": [
    "# проводим тест Шапиро — Уилка (на нормальность)\n",
    "_, p = stats.shapiro(data_chat_bot)\n",
    "display(f'p-value = {round(p, 3)}')\n",
    "\n",
    "# интерпретируем результат\n",
    "if p <= alpha: display('Распределение не нормальное')\n",
    "else: display('Распределение нормальное')\n",
    "\n",
    "# проводим тест Шапиро — Уилка (на нормальность)\n",
    "_, p = stats.shapiro(data_operator)\n",
    "display(f'p-value = {round(p, 3)}')\n",
    "\n",
    "# интерпретируем результат\n",
    "if p <= alpha: display('Распределение не нормальное')\n",
    "else: display('Распределение нормальное')"
   ]
  },
  {
   "cell_type": "code",
   "execution_count": 16,
   "metadata": {},
   "outputs": [
    {
     "data": {
      "text/plain": [
       "'Тест U-КРИТЕРИЙ МАННА — УИТНИ'"
      ]
     },
     "metadata": {},
     "output_type": "display_data"
    },
    {
     "data": {
      "text/plain": [
       "'p-value = 0.0'"
      ]
     },
     "metadata": {},
     "output_type": "display_data"
    },
    {
     "data": {
      "text/plain": [
       "'p-значение меньше, чем заданный уровень значимости 0.05. Отвергаем нулевую гипотезу.'"
      ]
     },
     "metadata": {},
     "output_type": "display_data"
    }
   ],
   "source": [
    "# проводим тест манна-уитни\n",
    "display('Тест U-КРИТЕРИЙ МАННА — УИТНИ')\n",
    "_, p = stats.mannwhitneyu(data_chat_bot, data_operator)\n",
    "display(f'p-value = {round(p, 3)}')\n",
    "\n",
    "# интерпретируем результат\n",
    "if p <= alpha: display(f'p-значение меньше, чем заданный уровень значимости {round(alpha, 2)}. Отвергаем нулевую гипотезу.')\n",
    "else: display(f'p-значение больше, чем заданный уровень значимости {round(alpha, 2)}. У нас нет оснований отвергнуть нулевую гипотезу.')"
   ]
  },
  {
   "cell_type": "markdown",
   "metadata": {},
   "source": [
    "Вывод: время получения ответа изменилось после внедрения чат-бота."
   ]
  },
  {
   "cell_type": "markdown",
   "metadata": {},
   "source": [
    "## КРИТЕРИЙ УИЛКОКСОНА"
   ]
  },
  {
   "cell_type": "code",
   "execution_count": 18,
   "metadata": {},
   "outputs": [],
   "source": [
    "# задаём уровень значимости\n",
    "alpha = 0.05 \n",
    "\n",
    "# загружаем данные\n",
    "data_chat_bot = [71, 97, 71, 97, 83, 90, 83, 94, 88, 76, 79, 99, 82, 85, 93, 78, 76, 87, 73, 72, 89, 89, 71, 86, 78, 93, 86, 95, 83, 73]\n",
    "data_operator = [114, 112, 115, 124, 101, 108, 104, 109, 103, 115, 100, 129, 120, 129, 117, 125, 112, 105, 128, 107, 120, 108, 129, 100, 116, 105, 128, 128, 120, 106]"
   ]
  },
  {
   "cell_type": "code",
   "execution_count": 19,
   "metadata": {},
   "outputs": [
    {
     "data": {
      "text/plain": [
       "'p-value = 0.151'"
      ]
     },
     "metadata": {},
     "output_type": "display_data"
    },
    {
     "data": {
      "text/plain": [
       "'Распределение нормальное'"
      ]
     },
     "metadata": {},
     "output_type": "display_data"
    },
    {
     "data": {
      "text/plain": [
       "'p-value = 0.035'"
      ]
     },
     "metadata": {},
     "output_type": "display_data"
    },
    {
     "data": {
      "text/plain": [
       "'Распределение не нормальное'"
      ]
     },
     "metadata": {},
     "output_type": "display_data"
    }
   ],
   "source": [
    "# проводим тест Шапиро — Уилка (на нормальность)\n",
    "_, p = stats.shapiro(data_chat_bot)\n",
    "display(f'p-value = {round(p, 3)}')\n",
    "\n",
    "# интерпретируем результат\n",
    "if p <= alpha: display('Распределение не нормальное')\n",
    "else: display('Распределение нормальное')\n",
    "\n",
    "# проводим тест Шапиро — Уилка (на нормальность)\n",
    "_, p = stats.shapiro(data_operator)\n",
    "display(f'p-value = {round(p, 3)}')\n",
    "\n",
    "# интерпретируем результат\n",
    "if p <= alpha: display('Распределение не нормальное')\n",
    "else: display('Распределение нормальное')"
   ]
  },
  {
   "cell_type": "code",
   "execution_count": 20,
   "metadata": {},
   "outputs": [
    {
     "data": {
      "text/plain": [
       "'Тест КРИТЕРИЙ УИЛКОКСОНА'"
      ]
     },
     "metadata": {},
     "output_type": "display_data"
    },
    {
     "data": {
      "text/plain": [
       "'p-value = 0.0'"
      ]
     },
     "metadata": {},
     "output_type": "display_data"
    },
    {
     "data": {
      "text/plain": [
       "'p-значение меньше, чем заданный уровень значимости 0.05. Отвергаем нулевую гипотезу.'"
      ]
     },
     "metadata": {},
     "output_type": "display_data"
    }
   ],
   "source": [
    "# проводим тест КРИТЕРИЙ УИЛКОКСОНА\n",
    "display('Тест КРИТЕРИЙ УИЛКОКСОНА')\n",
    "_, p = stats.wilcoxon(data_chat_bot, data_operator, alternative='less')\n",
    "display(f'p-value = {round(p, 3)}')\n",
    "\n",
    "# интерпретируем результат\n",
    "if p <= alpha: display(f'p-значение меньше, чем заданный уровень значимости {round(alpha, 2)}. Отвергаем нулевую гипотезу.')\n",
    "else: display(f'p-значение больше, чем заданный уровень значимости {round(alpha, 2)}. У нас нет оснований отвергнуть нулевую гипотезу.')"
   ]
  },
  {
   "cell_type": "markdown",
   "metadata": {},
   "source": [
    "Вывод: время получения ответа через чат-бота меньше, чем через звонок оператору."
   ]
  },
  {
   "cell_type": "markdown",
   "metadata": {},
   "source": [
    "## КРИТЕРИЙ КРАСКЕЛА — УОЛЛИСА"
   ]
  },
  {
   "cell_type": "code",
   "execution_count": 21,
   "metadata": {},
   "outputs": [],
   "source": [
    "# задаём уровень значимости\n",
    "alpha = 0.05 \n",
    "\n",
    "# загружаем данные\n",
    "data_basic = [106, 96, 105, 119, 91, 118, 108, 98, 103, 102, 98, 97, 104, 100, 94, 94, 98, 103, 95, 93, 118, 91, 96, 115, 119, 111, 102, 118, 91, 98 ]\n",
    "data_silver = [96, 95, 102, 103, 96, 120, 97, 112, 108, 90, 99, 93, 91, 91, 119, 95, 110, 108, 117, 99, 100, 99, 119, 98, 101, 95, 118, 110, 114, 116]\n",
    "data_gold = [99, 106, 92, 97, 98, 95, 119, 120, 116, 93, 102, 109, 98, 99, 100, 113, 91, 96, 119, 96, 95, 112, 111, 110, 102, 112, 105, 93, 111, 111]"
   ]
  },
  {
   "cell_type": "code",
   "execution_count": 22,
   "metadata": {},
   "outputs": [
    {
     "data": {
      "text/plain": [
       "'p-value = 0.007'"
      ]
     },
     "metadata": {},
     "output_type": "display_data"
    },
    {
     "data": {
      "text/plain": [
       "'Распределение не нормальное'"
      ]
     },
     "metadata": {},
     "output_type": "display_data"
    },
    {
     "data": {
      "text/plain": [
       "'p-value = 0.018'"
      ]
     },
     "metadata": {},
     "output_type": "display_data"
    },
    {
     "data": {
      "text/plain": [
       "'Распределение не нормальное'"
      ]
     },
     "metadata": {},
     "output_type": "display_data"
    },
    {
     "data": {
      "text/plain": [
       "'p-value = 0.049'"
      ]
     },
     "metadata": {},
     "output_type": "display_data"
    },
    {
     "data": {
      "text/plain": [
       "'Распределение не нормальное'"
      ]
     },
     "metadata": {},
     "output_type": "display_data"
    }
   ],
   "source": [
    "# проводим тест Шапиро — Уилка (на нормальность)\n",
    "_, p = stats.shapiro(data_basic)\n",
    "display(f'p-value = {round(p, 3)}')\n",
    "\n",
    "# интерпретируем результат\n",
    "if p <= alpha: display('Распределение не нормальное')\n",
    "else: display('Распределение нормальное')\n",
    "\n",
    "# проводим тест Шапиро — Уилка (на нормальность)\n",
    "_, p = stats.shapiro(data_silver)\n",
    "display(f'p-value = {round(p, 3)}')\n",
    "\n",
    "# интерпретируем результат\n",
    "if p <= alpha: display('Распределение не нормальное')\n",
    "else: display('Распределение нормальное')\n",
    "\n",
    "# проводим тест Шапиро — Уилка (на нормальность)\n",
    "_, p = stats.shapiro(data_gold)\n",
    "display(f'p-value = {round(p, 3)}')\n",
    "\n",
    "# интерпретируем результат\n",
    "if p <= alpha: display('Распределение не нормальное')\n",
    "else: display('Распределение нормальное')"
   ]
  },
  {
   "cell_type": "code",
   "execution_count": 23,
   "metadata": {},
   "outputs": [
    {
     "data": {
      "text/plain": [
       "'Тест КРАСКЕЛА — УОЛЛИСА'"
      ]
     },
     "metadata": {},
     "output_type": "display_data"
    },
    {
     "data": {
      "text/plain": [
       "'p-value = 0.837'"
      ]
     },
     "metadata": {},
     "output_type": "display_data"
    },
    {
     "data": {
      "text/plain": [
       "'p-значение больше, чем заданный уровень значимости 0.05. У нас нет оснований отвергнуть нулевую гипотезу.'"
      ]
     },
     "metadata": {},
     "output_type": "display_data"
    }
   ],
   "source": [
    "# проводим тест КРАСКЕЛА — УОЛЛИСА\n",
    "display('Тест КРАСКЕЛА — УОЛЛИСА')\n",
    "_, p = stats.kruskal(data_basic, data_silver, data_gold)\n",
    "display(f'p-value = {round(p, 3)}')\n",
    "\n",
    "# интерпретируем результат\n",
    "if p <= alpha: display(f'p-значение меньше, чем заданный уровень значимости {round(alpha, 2)}. Отвергаем нулевую гипотезу.')\n",
    "else: display(f'p-значение больше, чем заданный уровень значимости {round(alpha, 2)}. У нас нет оснований отвергнуть нулевую гипотезу.')"
   ]
  },
  {
   "cell_type": "markdown",
   "metadata": {},
   "source": [
    "Вывод: у нас нет оснований утверждать, что есть разница во времени обработки вопросов от покупателей разных уровней лояльности."
   ]
  },
  {
   "cell_type": "markdown",
   "metadata": {},
   "source": [
    "## КРИТЕРИЙ ФРИДМАНА"
   ]
  },
  {
   "cell_type": "code",
   "execution_count": 24,
   "metadata": {},
   "outputs": [],
   "source": [
    "# задаём уровень значимости\n",
    "alpha = 0.05 \n",
    "\n",
    "# загружаем данные\n",
    "data_basic = [113, 115, 108, 104, 107, 96, 114, 103, 103, 120, 92, 103, 120, 100, 110, 106, 112, 99, 118, 113, 102, 94, 92, 109, 91, 113, 95, 107, 110, 103]\n",
    "data_silver = [89, 80, 95, 77, 82, 98, 84, 83, 73, 93, 89, 78, 90, 73, 83, 73, 84, 90, 75, 75, 86, 88, 72, 72, 96, 75, 87, 99, 80, 82]\n",
    "data_gold = [62, 84, 67, 71, 64, 89, 65, 70, 86, 77, 84, 81, 89, 68, 87, 70, 70, 61, 82, 79, 60, 62, 88, 61, 76, 87, 79, 90, 77, 65]"
   ]
  },
  {
   "cell_type": "code",
   "execution_count": 25,
   "metadata": {},
   "outputs": [
    {
     "data": {
      "text/plain": [
       "'p-value = 0.402'"
      ]
     },
     "metadata": {},
     "output_type": "display_data"
    },
    {
     "data": {
      "text/plain": [
       "'Распределение нормальное'"
      ]
     },
     "metadata": {},
     "output_type": "display_data"
    },
    {
     "data": {
      "text/plain": [
       "'p-value = 0.153'"
      ]
     },
     "metadata": {},
     "output_type": "display_data"
    },
    {
     "data": {
      "text/plain": [
       "'Распределение нормальное'"
      ]
     },
     "metadata": {},
     "output_type": "display_data"
    },
    {
     "data": {
      "text/plain": [
       "'p-value = 0.023'"
      ]
     },
     "metadata": {},
     "output_type": "display_data"
    },
    {
     "data": {
      "text/plain": [
       "'Распределение не нормальное'"
      ]
     },
     "metadata": {},
     "output_type": "display_data"
    }
   ],
   "source": [
    "# проводим тест Шапиро — Уилка (на нормальность)\n",
    "_, p = stats.shapiro(data_basic)\n",
    "display(f'p-value = {round(p, 3)}')\n",
    "\n",
    "# интерпретируем результат\n",
    "if p <= alpha: display('Распределение не нормальное')\n",
    "else: display('Распределение нормальное')\n",
    "\n",
    "# проводим тест Шапиро — Уилка (на нормальность)\n",
    "_, p = stats.shapiro(data_silver)\n",
    "display(f'p-value = {round(p, 3)}')\n",
    "\n",
    "# интерпретируем результат\n",
    "if p <= alpha: display('Распределение не нормальное')\n",
    "else: display('Распределение нормальное')\n",
    "\n",
    "# проводим тест Шапиро — Уилка (на нормальность)\n",
    "_, p = stats.shapiro(data_gold)\n",
    "display(f'p-value = {round(p, 3)}')\n",
    "\n",
    "# интерпретируем результат\n",
    "if p <= alpha: display('Распределение не нормальное')\n",
    "else: display('Распределение нормальное')"
   ]
  },
  {
   "cell_type": "code",
   "execution_count": 26,
   "metadata": {},
   "outputs": [
    {
     "data": {
      "text/plain": [
       "'Тест КРИТЕРИЙ ФРИДМАНА'"
      ]
     },
     "metadata": {},
     "output_type": "display_data"
    },
    {
     "data": {
      "text/plain": [
       "'p-value = 0.0'"
      ]
     },
     "metadata": {},
     "output_type": "display_data"
    },
    {
     "data": {
      "text/plain": [
       "'p-значение меньше, чем заданный уровень значимости 0.05. Отвергаем нулевую гипотезу.'"
      ]
     },
     "metadata": {},
     "output_type": "display_data"
    }
   ],
   "source": [
    "# проводим тест КРИТЕРИЙ ФРИДМАНА\n",
    "display('Тест КРИТЕРИЙ ФРИДМАНА')\n",
    "_, p = sign_test\n",
    "display(f'p-value = {round(p, 3)}')\n",
    "\n",
    "# интерпретируем результат\n",
    "if p <= alpha: display(f'p-значение меньше, чем заданный уровень значимости {round(alpha, 2)}. Отвергаем нулевую гипотезу.')\n",
    "else: display(f'p-значение больше, чем заданный уровень значимости {round(alpha, 2)}. У нас нет оснований отвергнуть нулевую гипотезу.')"
   ]
  },
  {
   "cell_type": "markdown",
   "metadata": {},
   "source": [
    "Вывод: время обработки вопросов для покупателей разных уровней лояльности различно."
   ]
  },
  {
   "cell_type": "code",
   "execution_count": 45,
   "metadata": {},
   "outputs": [],
   "source": [
    "alpha = 0.05\n",
    "\n",
    "data_tariffs = [57, 56, 64, 62, 64, 63, 57, 64, 57, 63, 62, 59, 61, 61, 62, 57, 55, 60, 56, 62, 64, 56, 62, 62, 65]\n",
    "data_offers = [56, 56, 60, 64, 62, 63, 63, 56, 64, 60, 58, 61, 59, 63, 62, 63, 59, 64, 63, 58, 61, 61, 62, 55, 61]\n",
    "data_support = [65, 67, 65, 69, 66, 65, 62, 63, 65, 69, 64, 61, 69, 69, 62, 68, 65, 69, 62, 67, 63, 69, 63, 67, 61]"
   ]
  },
  {
   "cell_type": "code",
   "execution_count": 46,
   "metadata": {},
   "outputs": [
    {
     "data": {
      "text/plain": [
       "'p-value = 0.013'"
      ]
     },
     "metadata": {},
     "output_type": "display_data"
    },
    {
     "data": {
      "text/plain": [
       "'Распределение не нормальное'"
      ]
     },
     "metadata": {},
     "output_type": "display_data"
    },
    {
     "data": {
      "text/plain": [
       "'p-value = 0.031'"
      ]
     },
     "metadata": {},
     "output_type": "display_data"
    },
    {
     "data": {
      "text/plain": [
       "'Распределение не нормальное'"
      ]
     },
     "metadata": {},
     "output_type": "display_data"
    },
    {
     "data": {
      "text/plain": [
       "'p-value = 0.025'"
      ]
     },
     "metadata": {},
     "output_type": "display_data"
    },
    {
     "data": {
      "text/plain": [
       "'Распределение не нормальное'"
      ]
     },
     "metadata": {},
     "output_type": "display_data"
    }
   ],
   "source": [
    "# проводим тест Шапиро — Уилка (на нормальность)\n",
    "_, p = stats.shapiro(data_tariffs)\n",
    "display(f'p-value = {round(p, 3)}')\n",
    "\n",
    "# интерпретируем результат\n",
    "if p <= alpha: display('Распределение не нормальное')\n",
    "else: display('Распределение нормальное')\n",
    "\n",
    "# проводим тест Шапиро — Уилка (на нормальность)\n",
    "_, p = stats.shapiro(data_offers)\n",
    "display(f'p-value = {round(p, 3)}')\n",
    "\n",
    "# интерпретируем результат\n",
    "if p <= alpha: display('Распределение не нормальное')\n",
    "else: display('Распределение нормальное')\n",
    "\n",
    "# проводим тест Шапиро — Уилка (на нормальность)\n",
    "_, p = stats.shapiro(data_support)\n",
    "display(f'p-value = {round(p, 3)}')\n",
    "\n",
    "# интерпретируем результат\n",
    "if p <= alpha: display('Распределение не нормальное')\n",
    "else: display('Распределение нормальное')"
   ]
  },
  {
   "cell_type": "code",
   "execution_count": 47,
   "metadata": {},
   "outputs": [
    {
     "data": {
      "text/plain": [
       "'Тест КРАСКЕЛА — УОЛЛИСА'"
      ]
     },
     "metadata": {},
     "output_type": "display_data"
    },
    {
     "data": {
      "text/plain": [
       "'p-value = 0.0'"
      ]
     },
     "metadata": {},
     "output_type": "display_data"
    },
    {
     "data": {
      "text/plain": [
       "'p-значение меньше, чем заданный уровень значимости 0.05. Отвергаем нулевую гипотезу.'"
      ]
     },
     "metadata": {},
     "output_type": "display_data"
    }
   ],
   "source": [
    "# проводим тест КРАСКЕЛА — УОЛЛИСА\n",
    "display('Тест КРАСКЕЛА — УОЛЛИСА')\n",
    "_, p = stats.kruskal(data_tariffs, data_offers, data_support)\n",
    "display(f'p-value = {round(p, 3)}')\n",
    "\n",
    "# интерпретируем результат\n",
    "if p <= alpha: display(f'p-значение меньше, чем заданный уровень значимости {round(alpha, 2)}. Отвергаем нулевую гипотезу.')\n",
    "else: display(f'p-значение больше, чем заданный уровень значимости {round(alpha, 2)}. У нас нет оснований отвергнуть нулевую гипотезу.')"
   ]
  }
 ],
 "metadata": {
  "kernelspec": {
   "display_name": "Python 3",
   "language": "python",
   "name": "python3"
  },
  "language_info": {
   "codemirror_mode": {
    "name": "ipython",
    "version": 3
   },
   "file_extension": ".py",
   "mimetype": "text/x-python",
   "name": "python",
   "nbconvert_exporter": "python",
   "pygments_lexer": "ipython3",
   "version": "3.12.4"
  }
 },
 "nbformat": 4,
 "nbformat_minor": 2
}
